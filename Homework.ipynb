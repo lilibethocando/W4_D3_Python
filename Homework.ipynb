{
 "cells": [
  {
   "cell_type": "markdown",
   "id": "5dc7685a",
   "metadata": {},
   "source": [
    "# Exercises"
   ]
  },
  {
   "cell_type": "markdown",
   "id": "de1d6959",
   "metadata": {},
   "source": [
    "### Exercise #1 <br>\n",
    "<p>Write a function that takes a list of integers and returns the median value. *Can assume that the list of integers is sorted in ascending value*.</p>"
   ]
  },
  {
   "cell_type": "code",
   "execution_count": 1,
   "id": "4119c282",
   "metadata": {},
   "outputs": [],
   "source": [
    "def median(lst):\n",
    "    sorted_lst = sorted(lst)\n",
    "    n = len(sorted_lst)\n",
    "    if n % 2 == 1:\n",
    "        return sorted_lst[n // 2]\n",
    "    else:\n",
    "        mid = n // 2\n",
    "        return (sorted_lst[mid - 1] + sorted_lst[mid]) / 2\n",
    "    \n",
    "#Note: I used sorted() for cases where the list is not ordered."
   ]
  },
  {
   "cell_type": "code",
   "execution_count": 2,
   "id": "72d193a1",
   "metadata": {},
   "outputs": [
    {
     "name": "stdout",
     "output_type": "stream",
     "text": [
      "Median: 4.5\n"
     ]
    }
   ],
   "source": [
    "numbers = [7, 2, 5, 3, 1, 6, 4,8]\n",
    "print(\"Median:\", median(numbers))"
   ]
  },
  {
   "cell_type": "markdown",
   "id": "a2f7fd08",
   "metadata": {},
   "source": [
    "### Exercise #2 <br>\n",
    "<p>Create a function that counts how many distinct words are in the string below, then outputs a dictionary with the words as the key and the value as the amount of times that word appears in the string.</p>\n",
    "Example Output:<code>{'in': 1, 'computing': 1, 'a': 5, ...}</code>"
   ]
  },
  {
   "cell_type": "code",
   "execution_count": 3,
   "id": "f7ff0e64",
   "metadata": {},
   "outputs": [],
   "source": [
    "a_text = 'In computing, a hash table hash map is a data structure in computing which implements an associative array abstract data type, a structure that can map keys to values. A hash table uses a hash function to compute an index into an array of buckets or slots from which the desired value can be found'\n"
   ]
  },
  {
   "cell_type": "code",
   "execution_count": 4,
   "id": "dbd8c9ce",
   "metadata": {},
   "outputs": [],
   "source": [
    "def count_words(string):\n",
    "    list_of_words = string.lower().split()\n",
    "    dict_words = {}\n",
    "    for word in list_of_words:\n",
    "        if word in dict_words:\n",
    "            dict_words[word] += 1\n",
    "        else:\n",
    "            dict_words[word] = 1\n",
    "    return dict_words"
   ]
  },
  {
   "cell_type": "code",
   "execution_count": 5,
   "id": "04b59cc5",
   "metadata": {},
   "outputs": [
    {
     "data": {
      "text/plain": [
       "{'in': 2,\n",
       " 'computing,': 1,\n",
       " 'a': 5,\n",
       " 'hash': 4,\n",
       " 'table': 2,\n",
       " 'map': 2,\n",
       " 'is': 1,\n",
       " 'data': 2,\n",
       " 'structure': 2,\n",
       " 'computing': 1,\n",
       " 'which': 2,\n",
       " 'implements': 1,\n",
       " 'an': 3,\n",
       " 'associative': 1,\n",
       " 'array': 2,\n",
       " 'abstract': 1,\n",
       " 'type,': 1,\n",
       " 'that': 1,\n",
       " 'can': 2,\n",
       " 'keys': 1,\n",
       " 'to': 2,\n",
       " 'values.': 1,\n",
       " 'uses': 1,\n",
       " 'function': 1,\n",
       " 'compute': 1,\n",
       " 'index': 1,\n",
       " 'into': 1,\n",
       " 'of': 1,\n",
       " 'buckets': 1,\n",
       " 'or': 1,\n",
       " 'slots': 1,\n",
       " 'from': 1,\n",
       " 'the': 1,\n",
       " 'desired': 1,\n",
       " 'value': 1,\n",
       " 'be': 1,\n",
       " 'found': 1}"
      ]
     },
     "execution_count": 5,
     "metadata": {},
     "output_type": "execute_result"
    }
   ],
   "source": [
    "count_words(a_text)"
   ]
  },
  {
   "cell_type": "code",
   "execution_count": null,
   "id": "b16d5936",
   "metadata": {},
   "outputs": [],
   "source": []
  }
 ],
 "metadata": {
  "kernelspec": {
   "display_name": "Python 3 (ipykernel)",
   "language": "python",
   "name": "python3"
  },
  "language_info": {
   "codemirror_mode": {
    "name": "ipython",
    "version": 3
   },
   "file_extension": ".py",
   "mimetype": "text/x-python",
   "name": "python",
   "nbconvert_exporter": "python",
   "pygments_lexer": "ipython3",
   "version": "3.11.5"
  }
 },
 "nbformat": 4,
 "nbformat_minor": 5
}
